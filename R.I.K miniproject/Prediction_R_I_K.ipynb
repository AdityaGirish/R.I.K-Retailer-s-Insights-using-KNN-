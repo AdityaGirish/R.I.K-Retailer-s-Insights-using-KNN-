{
  "cells": [
    {
      "cell_type": "code",
      "execution_count": 2,
      "metadata": {
        "colab": {
          "base_uri": "https://localhost:8080/",
          "height": 176
        },
        "id": "3m4oVp8ZFdmT",
        "outputId": "a769f1e2-b785-4ffa-b831-a045dceb5a9d"
      },
      "outputs": [
        {
          "ename": "SyntaxError",
          "evalue": "(unicode error) 'unicodeescape' codec can't decode bytes in position 2-3: truncated \\UXXXXXXXX escape (621104696.py, line 2)",
          "output_type": "error",
          "traceback": [
            "\u001b[1;36m  Cell \u001b[1;32mIn[2], line 2\u001b[1;36m\u001b[0m\n\u001b[1;33m    with open('C:\\Users\\Lenovo\\Desktop\\R.I.K miniproject\\knn_model (1).pickle','rb') as f:\u001b[0m\n\u001b[1;37m              ^\u001b[0m\n\u001b[1;31mSyntaxError\u001b[0m\u001b[1;31m:\u001b[0m (unicode error) 'unicodeescape' codec can't decode bytes in position 2-3: truncated \\UXXXXXXXX escape\n"
          ]
        }
      ],
      "source": [
        "import pickle\n",
        "with open('C:\\Users\\Lenovo\\Desktop\\R.I.K miniproject\\knn_model (1).pickle','rb') as f:\n",
        "  knn_new = pickle.load(f)"
      ]
    },
    {
      "cell_type": "code",
      "execution_count": null,
      "metadata": {
        "id": "EB4J7t1tF2k9"
      },
      "outputs": [],
      "source": [
        "with open('scaler.pickle','rb') as f:\n",
        "  scaler_new = pickle.load(f)"
      ]
    },
    {
      "cell_type": "code",
      "execution_count": null,
      "metadata": {
        "id": "1CEzVGr2F2n-"
      },
      "outputs": [],
      "source": [
        "import pandas as pd\n",
        "new_df = pd.read_csv(\"https://raw.githubusercontent.com/futurexskill/projects/main/knn-classification/new_customers.csv\")"
      ]
    },
    {
      "cell_type": "code",
      "execution_count": null,
      "metadata": {
        "id": "A7DLhrU6F2rH"
      },
      "outputs": [],
      "source": [
        "new_df"
      ]
    },
    {
      "cell_type": "code",
      "execution_count": null,
      "metadata": {
        "id": "76OICaU5F2tx"
      },
      "outputs": [],
      "source": [
        "len(new_df)"
      ]
    },
    {
      "cell_type": "code",
      "execution_count": null,
      "metadata": {
        "id": "3dqEKa8kF2wX"
      },
      "outputs": [],
      "source": [
        "gender_encoded_new = pd.get_dummies(new_df['Gender'], drop_first=True)"
      ]
    },
    {
      "cell_type": "code",
      "execution_count": null,
      "metadata": {
        "id": "AHfOnwLZF2zJ"
      },
      "outputs": [],
      "source": [
        "gender_encoded_new"
      ]
    },
    {
      "cell_type": "code",
      "execution_count": null,
      "metadata": {
        "id": "AlstOka9F21u"
      },
      "outputs": [],
      "source": [
        "df_new_2 = pd.concat([new_df,gender_encoded_new],axis=1)"
      ]
    },
    {
      "cell_type": "code",
      "execution_count": null,
      "metadata": {
        "id": "hJnvd8RXF24N"
      },
      "outputs": [],
      "source": [
        "df_new_2"
      ]
    },
    {
      "cell_type": "code",
      "execution_count": null,
      "metadata": {
        "id": "2B91Tu71F27c"
      },
      "outputs": [],
      "source": [
        "x_new = df_new_2[['Male','Age','Salary','Price']].to_numpy()"
      ]
    },
    {
      "cell_type": "code",
      "execution_count": null,
      "metadata": {
        "id": "e9hPOShjGYhx"
      },
      "outputs": [],
      "source": [
        "x_new"
      ]
    },
    {
      "cell_type": "code",
      "execution_count": null,
      "metadata": {
        "id": "PRhqcLDgGYkW"
      },
      "outputs": [],
      "source": [
        "x_new_scale2 = scaler_new.fit_transform(x_new)"
      ]
    },
    {
      "cell_type": "code",
      "execution_count": null,
      "metadata": {
        "id": "mRcKrNL6GYme"
      },
      "outputs": [],
      "source": [
        "x_new_scale2"
      ]
    },
    {
      "cell_type": "code",
      "execution_count": null,
      "metadata": {
        "id": "0T7BodA5GYp3"
      },
      "outputs": [],
      "source": [
        "y_new_pred = knn_new.predict(x_new_scale2)"
      ]
    },
    {
      "cell_type": "code",
      "execution_count": null,
      "metadata": {
        "id": "VagVy1QZGhjF"
      },
      "outputs": [],
      "source": [
        "y_new_pred"
      ]
    },
    {
      "cell_type": "code",
      "execution_count": null,
      "metadata": {
        "id": "tkOYS-r-GhmI"
      },
      "outputs": [],
      "source": [
        "df_new_2['will_purchase'] = y_new_pred"
      ]
    },
    {
      "cell_type": "code",
      "execution_count": null,
      "metadata": {
        "id": "TTcPx-37Ghpp"
      },
      "outputs": [],
      "source": [
        "df_new_2"
      ]
    },
    {
      "cell_type": "code",
      "execution_count": null,
      "metadata": {
        "id": "6UGt5feTGr1q"
      },
      "outputs": [],
      "source": []
    },
    {
      "cell_type": "code",
      "execution_count": null,
      "metadata": {
        "id": "k3iSO4V3Gr4E"
      },
      "outputs": [],
      "source": []
    },
    {
      "cell_type": "code",
      "execution_count": null,
      "metadata": {
        "id": "s1v_C5ULGr6i"
      },
      "outputs": [],
      "source": []
    },
    {
      "cell_type": "code",
      "execution_count": null,
      "metadata": {
        "id": "he1hZPo3Gr-I"
      },
      "outputs": [],
      "source": []
    },
    {
      "cell_type": "code",
      "execution_count": null,
      "metadata": {
        "id": "V0uILxp4GsEy"
      },
      "outputs": [],
      "source": []
    },
    {
      "cell_type": "code",
      "execution_count": null,
      "metadata": {
        "id": "M2yptSUmGsMl"
      },
      "outputs": [],
      "source": []
    }
  ],
  "metadata": {
    "colab": {
      "provenance": []
    },
    "kernelspec": {
      "display_name": "Python 3",
      "name": "python3"
    },
    "language_info": {
      "codemirror_mode": {
        "name": "ipython",
        "version": 3
      },
      "file_extension": ".py",
      "mimetype": "text/x-python",
      "name": "python",
      "nbconvert_exporter": "python",
      "pygments_lexer": "ipython3",
      "version": "3.12.2"
    }
  },
  "nbformat": 4,
  "nbformat_minor": 0
}
